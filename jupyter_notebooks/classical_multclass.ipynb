{
 "cells": [
  {
   "cell_type": "code",
   "execution_count": 20,
   "id": "7fa7e7b2-c970-46aa-89a5-70d6121c4434",
   "metadata": {},
   "outputs": [],
   "source": [
    "import pandas as pd\n",
    "import numpy as np\n",
    "import seaborn as sns\n",
    "import matplotlib.pyplot as plt\n",
    "from brokenaxes import brokenaxes\n",
    "from collections import Counter\n",
    "from sklearn.model_selection import train_test_split\n",
    "from sklearn.model_selection import GridSearchCV\n",
    "from sklearn.preprocessing import StandardScaler\n",
    "from imblearn.over_sampling import RandomOverSampler\n",
    "from brokenaxes import brokenaxes\n",
    "from sklearn.svm import SVC\n",
    "from sklearn.tree import DecisionTreeClassifier\n",
    "from sklearn.ensemble import RandomForestClassifier, AdaBoostClassifier, VotingClassifier, GradientBoostingClassifier\n",
    "from sklearn.neighbors import KNeighborsClassifier, NearestCentroid\n",
    "from sklearn.naive_bayes import MultinomialNB\n",
    "from sklearn.pipeline import Pipeline\n",
    "from sklearn.preprocessing import MinMaxScaler\n",
    "from sklearn.metrics import accuracy_score, precision_score, recall_score, f1_score, classification_report\n",
    "from sklearn.model_selection import cross_val_score\n",
    "import random as rn\n",
    "import tensorflow as tf\n",
    "#PYTHONHASHSEED=0\n",
    "#tf.random.set_seed(1234)\n",
    "np.random.seed(1234)\n",
    "rn.seed(1254)\n",
    "import warnings\n",
    "warnings.filterwarnings('ignore')"
   ]
  },
  {
   "cell_type": "code",
   "execution_count": 21,
   "id": "e366fc79-fec7-4ba4-9f77-0aeac5ab2a74",
   "metadata": {},
   "outputs": [],
   "source": [
    "data = pd.read_csv(\"c2h4_final_data_phi_1.csv\")"
   ]
  },
  {
   "cell_type": "code",
   "execution_count": 22,
   "id": "401a7ffe-c3cb-43c3-b9d3-be20e986e794",
   "metadata": {},
   "outputs": [],
   "source": [
    "data = data[data['b'] <= 6.5]"
   ]
  },
  {
   "cell_type": "code",
   "execution_count": 23,
   "id": "e5f824f5-f4f9-4d77-b76c-8bc6a6add546",
   "metadata": {},
   "outputs": [
    {
     "name": "stdout",
     "output_type": "stream",
     "text": [
      "trained dataset counts Counter({'I': 5559, '4A': 5559, '3A': 5559, '5B': 5559, 'II': 5559, '4B': 5559, 'unk': 5559, '3B': 5559, '5C': 5559, '4C': 5559, 'VI': 5559})\n"
     ]
    }
   ],
   "source": [
    "data_process = data.copy()    #to keep original datafile intact\n",
    "#data_process.replace([np.NaN], 0, inplace=True)\n",
    "data_process.fillna(data_process.mode().iloc[0], inplace=True)  # Mode imputation\n",
    "data_process[\"react_type\"].replace({\"1\": \"I\", \"2\": \"II\"}, inplace=True)\n",
    "#data_process[\"react_type\"].replace({\"3A\": \"31\", \"3B\": \"32\", \"4A\" : \"41\", \"4B\" : \"42\", \"4C\" : \"43\" , \"5A\" : \"51\", \"5B\" : \"52\", \"5C\" : \"53\", \"VI\" : \"6\", \"unk\" : \"0\"}, inplace=True)\n",
    "#final_data = data_process.groupby('react_type').filter(lambda x : len(x)>1)\n",
    "X_data = data_process[['Alpha', 'Beta', 'Gamma', 'b']]\n",
    "y_data = data_process[['react_type']].values\n",
    "X_train, X_test, y_train, y_test = train_test_split(X_data, y_data, test_size=0.20, stratify=y_data, random_state=0)\n",
    "scaler = StandardScaler()\n",
    "X_train = scaler.fit_transform(X_train)\n",
    "X_test = scaler.fit_transform(X_test)\n",
    "y_train = np.ravel(y_train)\n",
    "ros = RandomOverSampler(random_state=0)\n",
    "X_train_res, y_train_res = ros.fit_resample(X_train, y_train)\n",
    "print('trained dataset counts', Counter(y_train_res))"
   ]
  },
  {
   "cell_type": "code",
   "execution_count": 24,
   "id": "c37813dd-d228-457c-a5fe-5c9cfa639ead",
   "metadata": {},
   "outputs": [],
   "source": [
    "models = []"
   ]
  },
  {
   "cell_type": "code",
   "execution_count": 26,
   "id": "f3bfe1ad-3f9f-40b4-96bf-013e186e5246",
   "metadata": {},
   "outputs": [],
   "source": [
    "models = []\n",
    "models.append(('SVC', SVC()))\n",
    "models.append(('Decision_Tree', DecisionTreeClassifier(class_weight='balanced', max_depth=5)))\n",
    "models.append(('Random_forest', RandomForestClassifier(class_weight='balanced', max_depth=5, n_estimators=10, max_features=1)))\n",
    "models.append(('KNN', KNeighborsClassifier(3)))\n",
    "models.append(('AdaBoost', AdaBoostClassifier(learning_rate=0.01)))\n",
    "models.append(('Nearest_neighbour', NearestCentroid()))\n",
    "models.append(('Naive_bayes', Pipeline([('Normalizing', MinMaxScaler()), ('MultinomialNB', MultinomialNB())])))\n",
    "models.append(('Voting', VotingClassifier(estimators=[('SVC', SVC()), ('KNN', KNeighborsClassifier(3)), ('RF', RandomForestClassifier())])))\n",
    "models.append(('XGBoost', GradientBoostingClassifier()))\n"
   ]
  },
  {
   "cell_type": "code",
   "execution_count": 27,
   "id": "9065c499-d00c-438f-b698-aebb9b4788b8",
   "metadata": {},
   "outputs": [],
   "source": [
    "names = []\n",
    "scores = []\n",
    "precision_scores = []\n",
    "model_list = []"
   ]
  },
  {
   "cell_type": "code",
   "execution_count": 28,
   "id": "5838069a-beda-4253-9c41-a346f58eb4fd",
   "metadata": {},
   "outputs": [
    {
     "name": "stdout",
     "output_type": "stream",
     "text": [
      "SVC Accuracy: 0.681187\n",
      "SVC Precision: 0.681187\n",
      "SVC Recall: 0.681187\n",
      "SVC F1-Score: 0.681187\n",
      "Classification Report:\n",
      "               precision    recall  f1-score   support\n",
      "\n",
      "          3A       0.37      0.73      0.49        49\n",
      "          3B       0.00      0.00      0.00         5\n",
      "          4A       0.25      0.64      0.36       103\n",
      "          4B       0.12      0.74      0.20        19\n",
      "          4C       0.00      0.00      0.00         1\n",
      "          5B       0.00      0.00      0.00         2\n",
      "          5C       0.00      0.00      0.00         1\n",
      "           I       1.00      0.69      0.81      1389\n",
      "          II       0.24      0.80      0.36        10\n",
      "          VI       0.00      0.00      0.00         2\n",
      "         unk       0.02      0.33      0.03         3\n",
      "\n",
      "    accuracy                           0.68      1584\n",
      "   macro avg       0.18      0.36      0.21      1584\n",
      "weighted avg       0.91      0.68      0.76      1584\n",
      "\n",
      "Decision_Tree Accuracy: 0.580177\n",
      "Decision_Tree Precision: 0.580177\n",
      "Decision_Tree Recall: 0.580177\n",
      "Decision_Tree F1-Score: 0.580177\n",
      "Classification Report:\n",
      "               precision    recall  f1-score   support\n",
      "\n",
      "          3A       0.29      0.90      0.43        49\n",
      "          3B       0.00      0.00      0.00         5\n",
      "          4A       0.15      0.34      0.20       103\n",
      "          4B       0.07      0.63      0.12        19\n",
      "          4C       0.00      0.00      0.00         1\n",
      "          5B       0.00      0.00      0.00         2\n",
      "          5C       0.08      1.00      0.14         1\n",
      "           I       1.00      0.59      0.74      1389\n",
      "          II       0.15      0.70      0.25        10\n",
      "          VI       0.09      1.00      0.17         2\n",
      "         unk       0.02      0.33      0.03         3\n",
      "\n",
      "    accuracy                           0.58      1584\n",
      "   macro avg       0.17      0.50      0.19      1584\n",
      "weighted avg       0.89      0.58      0.68      1584\n",
      "\n",
      "Random_forest Accuracy: 0.604798\n",
      "Random_forest Precision: 0.604798\n",
      "Random_forest Recall: 0.604798\n",
      "Random_forest F1-Score: 0.604798\n",
      "Classification Report:\n",
      "               precision    recall  f1-score   support\n",
      "\n",
      "          3A       0.37      0.98      0.54        49\n",
      "          3B       0.00      0.00      0.00         5\n",
      "          4A       0.28      0.32      0.30       103\n",
      "          4B       0.11      0.37      0.17        19\n",
      "          4C       0.00      0.00      0.00         1\n",
      "          5B       0.00      0.00      0.00         2\n",
      "          5C       0.00      0.00      0.00         1\n",
      "           I       1.00      0.62      0.76      1389\n",
      "          II       0.20      0.90      0.33        10\n",
      "          VI       0.01      1.00      0.02         2\n",
      "         unk       0.01      0.67      0.02         3\n",
      "\n",
      "    accuracy                           0.60      1584\n",
      "   macro avg       0.18      0.44      0.19      1584\n",
      "weighted avg       0.91      0.60      0.71      1584\n",
      "\n",
      "KNN Accuracy: 0.951389\n",
      "KNN Precision: 0.951389\n",
      "KNN Recall: 0.951389\n",
      "KNN F1-Score: 0.951389\n",
      "Classification Report:\n",
      "               precision    recall  f1-score   support\n",
      "\n",
      "          3A       0.86      0.86      0.86        49\n",
      "          3B       0.00      0.00      0.00         5\n",
      "          4A       0.67      0.87      0.76       103\n",
      "          4B       0.74      0.74      0.74        19\n",
      "          4C       0.00      0.00      0.00         1\n",
      "          5B       0.00      0.00      0.00         2\n",
      "          5C       0.00      0.00      0.00         1\n",
      "           I       0.99      0.98      0.99      1389\n",
      "          II       0.50      0.50      0.50        10\n",
      "          VI       0.00      0.00      0.00         2\n",
      "         unk       0.00      0.00      0.00         3\n",
      "\n",
      "    accuracy                           0.95      1584\n",
      "   macro avg       0.34      0.36      0.35      1584\n",
      "weighted avg       0.95      0.95      0.95      1584\n",
      "\n",
      "AdaBoost Accuracy: 0.073864\n",
      "AdaBoost Precision: 0.073864\n",
      "AdaBoost Recall: 0.073864\n",
      "AdaBoost F1-Score: 0.073864\n",
      "Classification Report:\n",
      "               precision    recall  f1-score   support\n",
      "\n",
      "          3A       0.00      0.00      0.00        49\n",
      "          3B       0.03      1.00      0.05         5\n",
      "          4A       0.31      0.10      0.15       103\n",
      "          4B       0.04      0.63      0.07        19\n",
      "          4C       0.03      1.00      0.05         1\n",
      "          5B       0.00      1.00      0.01         2\n",
      "          5C       0.00      0.00      0.00         1\n",
      "           I       1.00      0.06      0.12      1389\n",
      "          II       0.00      0.00      0.00        10\n",
      "          VI       0.02      1.00      0.04         2\n",
      "         unk       0.00      0.00      0.00         3\n",
      "\n",
      "    accuracy                           0.07      1584\n",
      "   macro avg       0.13      0.44      0.04      1584\n",
      "weighted avg       0.90      0.07      0.11      1584\n",
      "\n",
      "Nearest_neighbour Accuracy: 0.275253\n",
      "Nearest_neighbour Precision: 0.275253\n",
      "Nearest_neighbour Recall: 0.275253\n",
      "Nearest_neighbour F1-Score: 0.275253\n",
      "Classification Report:\n",
      "               precision    recall  f1-score   support\n",
      "\n",
      "          3A       0.24      0.39      0.30        49\n",
      "          3B       0.01      0.20      0.02         5\n",
      "          4A       0.04      0.02      0.03       103\n",
      "          4B       0.07      0.37      0.12        19\n",
      "          4C       0.00      0.00      0.00         1\n",
      "          5B       0.00      0.00      0.00         2\n",
      "          5C       0.00      0.00      0.00         1\n",
      "           I       1.00      0.29      0.45      1389\n",
      "          II       0.03      0.10      0.05        10\n",
      "          VI       0.00      0.00      0.00         2\n",
      "         unk       0.00      0.00      0.00         3\n",
      "\n",
      "    accuracy                           0.28      1584\n",
      "   macro avg       0.13      0.12      0.09      1584\n",
      "weighted avg       0.88      0.28      0.41      1584\n",
      "\n",
      "Naive_bayes Accuracy: 0.246212\n",
      "Naive_bayes Precision: 0.246212\n",
      "Naive_bayes Recall: 0.246212\n",
      "Naive_bayes F1-Score: 0.246212\n",
      "Classification Report:\n",
      "               precision    recall  f1-score   support\n",
      "\n",
      "          3A       0.23      0.61      0.33        49\n",
      "          3B       0.03      0.20      0.05         5\n",
      "          4A       0.20      0.13      0.15       103\n",
      "          4B       0.02      0.16      0.04        19\n",
      "          4C       0.00      0.00      0.00         1\n",
      "          5B       0.00      0.00      0.00         2\n",
      "          5C       0.01      1.00      0.01         1\n",
      "           I       0.97      0.24      0.39      1389\n",
      "          II       0.03      0.20      0.04        10\n",
      "          VI       0.00      0.00      0.00         2\n",
      "         unk       0.00      0.00      0.00         3\n",
      "\n",
      "    accuracy                           0.25      1584\n",
      "   macro avg       0.13      0.23      0.09      1584\n",
      "weighted avg       0.87      0.25      0.36      1584\n",
      "\n",
      "Voting Accuracy: 0.936237\n",
      "Voting Precision: 0.936237\n",
      "Voting Recall: 0.936237\n",
      "Voting F1-Score: 0.936237\n",
      "Classification Report:\n",
      "               precision    recall  f1-score   support\n",
      "\n",
      "          3A       0.82      0.86      0.84        49\n",
      "          3B       0.00      0.00      0.00         5\n",
      "          4A       0.62      0.87      0.73       103\n",
      "          4B       0.56      0.74      0.64        19\n",
      "          4C       0.00      0.00      0.00         1\n",
      "          5B       0.00      0.00      0.00         2\n",
      "          5C       0.00      0.00      0.00         1\n",
      "           I       0.99      0.96      0.98      1389\n",
      "          II       0.38      0.50      0.43        10\n",
      "          VI       0.00      0.00      0.00         2\n",
      "         unk       0.00      0.00      0.00         3\n",
      "\n",
      "    accuracy                           0.94      1584\n",
      "   macro avg       0.31      0.36      0.33      1584\n",
      "weighted avg       0.95      0.94      0.94      1584\n",
      "\n",
      "XGBoost Accuracy: 0.893939\n",
      "XGBoost Precision: 0.893939\n",
      "XGBoost Recall: 0.893939\n",
      "XGBoost F1-Score: 0.893939\n",
      "Classification Report:\n",
      "               precision    recall  f1-score   support\n",
      "\n",
      "          3A       0.67      0.94      0.78        49\n",
      "          3B       0.00      0.00      0.00         5\n",
      "          4A       0.53      0.88      0.66       103\n",
      "          4B       0.35      0.79      0.48        19\n",
      "          4C       0.00      0.00      0.00         1\n",
      "          5B       0.50      1.00      0.67         2\n",
      "          5C       0.00      0.00      0.00         1\n",
      "           I       1.00      0.90      0.95      1389\n",
      "          II       0.42      1.00      0.59        10\n",
      "          VI       0.50      1.00      0.67         2\n",
      "         unk       0.18      0.67      0.29         3\n",
      "\n",
      "    accuracy                           0.89      1584\n",
      "   macro avg       0.38      0.65      0.46      1584\n",
      "weighted avg       0.94      0.89      0.91      1584\n",
      "\n"
     ]
    }
   ],
   "source": [
    "for name, model in models:\n",
    "    model_list.append(model)\n",
    "    model.fit(X_train_res, y_train_res)\n",
    "    y_pred = model.predict(X_test)\n",
    "    score = accuracy_score(y_test, y_pred)\n",
    "    scores.append(score)\n",
    "    prec_score = precision_score(y_test, y_pred, average='micro')\n",
    "    rec_score = recall_score(y_test, y_pred, average='micro')\n",
    "    f1_scores = f1_score(y_test, y_pred, average='micro')\n",
    "    names.append(name)\n",
    "    print('%s Accuracy: %f' % (name, score))\n",
    "    print('%s Precision: %f' % (name, prec_score))\n",
    "    print('%s Recall: %f' % (name, rec_score))\n",
    "    print('%s F1-Score: %f' % (name, f1_scores))\n",
    "    report = classification_report(y_test, y_pred)\n",
    "    print(\"Classification Report:\\n\", report)"
   ]
  },
  {
   "cell_type": "code",
   "execution_count": 15,
   "id": "beffc781-13c7-4549-9eba-ba28d8c76615",
   "metadata": {},
   "outputs": [
    {
     "name": "stdout",
     "output_type": "stream",
     "text": [
      "Best model found : KNeighborsClassifier(n_neighbors=3)\n"
     ]
    }
   ],
   "source": [
    "v = max(scores)\n",
    "m = scores.index(v)\n",
    "final_model = model_list[m]\n",
    "print('Best model found :', final_model)"
   ]
  },
  {
   "cell_type": "code",
   "execution_count": 16,
   "id": "b11cf42c-8dcd-4883-9512-c896543f57be",
   "metadata": {},
   "outputs": [
    {
     "name": "stdout",
     "output_type": "stream",
     "text": [
      "<class 'sklearn.neighbors._classification.KNeighborsClassifier'>\n"
     ]
    }
   ],
   "source": [
    "BM = model_list[m].__class__\n",
    "print(BM)"
   ]
  },
  {
   "cell_type": "code",
   "execution_count": 17,
   "id": "49621b1e-a750-4c39-a6ea-10d2ab3091ed",
   "metadata": {},
   "outputs": [],
   "source": [
    "k_values = [i for i in range (2,11)]"
   ]
  },
  {
   "cell_type": "code",
   "execution_count": 18,
   "id": "5515a46a-bfd7-4073-97a6-480297b8d539",
   "metadata": {},
   "outputs": [],
   "source": [
    "score_best_model = []"
   ]
  },
  {
   "cell_type": "code",
   "execution_count": 19,
   "id": "d26161f8-cb2f-4235-9588-35ffa32e0292",
   "metadata": {},
   "outputs": [],
   "source": [
    "for k in k_values:\n",
    "    #knn = KNeighborsClassifier(n_neighbors=k)\n",
    "    BM_final = BM(n_neighbors=k)\n",
    "    score = cross_val_score(BM_final , X_train_res, y_train_res, cv=10)\n",
    "    score_best_model.append(np.mean(score))"
   ]
  },
  {
   "cell_type": "code",
   "execution_count": 20,
   "id": "70f2da6c-c093-41cc-a486-675869b4c6d9",
   "metadata": {},
   "outputs": [
    {
     "data": {
      "text/plain": [
       "Text(0, 0.5, 'Accuracy Score')"
      ]
     },
     "execution_count": 20,
     "metadata": {},
     "output_type": "execute_result"
    },
    {
     "data": {
      "image/png": "[encoded data removed]",
      "text/plain": [
       "<Figure size 640x480 with 1 Axes>"
      ]
     },
     "metadata": {},
     "output_type": "display_data"
    }
   ],
   "source": [
    "sns.lineplot(x = k_values, y = score_best_model, marker = 'o')\n",
    "plt.xlabel(\"K Values\")\n",
    "plt.ylabel(\"Accuracy Score\")"
   ]
  },
  {
   "cell_type": "code",
   "execution_count": 21,
   "id": "523d63a9-e326-42cd-9943-593293514f68",
   "metadata": {},
   "outputs": [
    {
     "name": "stdout",
     "output_type": "stream",
     "text": [
      "2\n"
     ]
    }
   ],
   "source": [
    "best_index = np.argmax(score_best_model)\n",
    "best_k = k_values[best_index]\n",
    "print(best_k)"
   ]
  },
  {
   "cell_type": "code",
   "execution_count": 22,
   "id": "42c9fb04-0f25-423f-9ac8-f851ffa40bc8",
   "metadata": {},
   "outputs": [],
   "source": [
    "K = BM(n_neighbors=best_k).fit(X_train_res, y_train_res)"
   ]
  },
  {
   "cell_type": "code",
   "execution_count": 23,
   "id": "71519585-bb5e-41a3-a6fe-e4d42d974313",
   "metadata": {},
   "outputs": [],
   "source": [
    "y_pred = K.predict(X_test)"
   ]
  },
  {
   "cell_type": "code",
   "execution_count": 24,
   "id": "7d8fba48-791f-4f69-b96b-a1d95b645834",
   "metadata": {},
   "outputs": [],
   "source": [
    "y_pred_train = K.predict(X_train_res)"
   ]
  },
  {
   "cell_type": "code",
   "execution_count": 25,
   "id": "28c353e5-b1fd-45d9-983d-aafbea544a54",
   "metadata": {},
   "outputs": [],
   "source": [
    "best_score = accuracy_score(y_test, y_pred)"
   ]
  },
  {
   "cell_type": "code",
   "execution_count": 26,
   "id": "76e025f9-7c91-4243-98bd-b8b453825297",
   "metadata": {},
   "outputs": [
    {
     "data": {
      "text/plain": [
       "0.9532828282828283"
      ]
     },
     "execution_count": 26,
     "metadata": {},
     "output_type": "execute_result"
    }
   ],
   "source": [
    "best_score"
   ]
  },
  {
   "cell_type": "code",
   "execution_count": 27,
   "id": "540f3673-e069-4111-aa08-6ee4108ded86",
   "metadata": {},
   "outputs": [],
   "source": [
    "best_score_train = accuracy_score(y_pred_train, y_train_res)"
   ]
  },
  {
   "cell_type": "code",
   "execution_count": 28,
   "id": "4187c656-2eb9-4a26-9cb9-298b44f7c639",
   "metadata": {},
   "outputs": [
    {
     "data": {
      "text/plain": [
       "0.9988879621907145"
      ]
     },
     "execution_count": 28,
     "metadata": {},
     "output_type": "execute_result"
    }
   ],
   "source": [
    "best_score_train"
   ]
  },
  {
   "cell_type": "code",
   "execution_count": 29,
   "id": "99858223-c123-4dcb-88ea-306ef3a832c0",
   "metadata": {},
   "outputs": [],
   "source": [
    "y_test = y_test.flatten()"
   ]
  },
  {
   "cell_type": "code",
   "execution_count": 27,
   "id": "b1595632-dec4-4434-af99-562823fe9900",
   "metadata": {},
   "outputs": [],
   "source": [
    "y_train_res = y_train_res.flatten()"
   ]
  },
  {
   "cell_type": "code",
   "execution_count": 30,
   "id": "3376be17-4c8b-4b2b-94cb-05067b1399cf",
   "metadata": {},
   "outputs": [],
   "source": [
    "counter_pred = Counter(y_pred)\n",
    "counter_data = Counter(y_test)\n",
    "x_1 = np.arange(0, len(counter_pred.values()))\n",
    "x_test = np.arange(0, len(counter_data.values()))"
   ]
  },
  {
   "cell_type": "code",
   "execution_count": 31,
   "id": "9bd3ba6e-661a-4ddc-ad29-f29c7cd545d6",
   "metadata": {},
   "outputs": [
    {
     "data": {
      "text/plain": [
       "Counter({'I': 1366,\n",
       "         '3A': 49,\n",
       "         '4A': 135,\n",
       "         '4B': 19,\n",
       "         'II': 10,\n",
       "         'unk': 1,\n",
       "         '5B': 2,\n",
       "         '3B': 1,\n",
       "         '5C': 1})"
      ]
     },
     "execution_count": 31,
     "metadata": {},
     "output_type": "execute_result"
    }
   ],
   "source": [
    "counter_pred"
   ]
  },
  {
   "cell_type": "code",
   "execution_count": 32,
   "id": "c5690fa0-55b3-4266-8d8c-4500e2875804",
   "metadata": {},
   "outputs": [
    {
     "data": {
      "text/plain": [
       "Counter({'I': 1389,\n",
       "         '3A': 49,\n",
       "         '4A': 103,\n",
       "         '4B': 19,\n",
       "         'II': 10,\n",
       "         '5C': 1,\n",
       "         '3B': 5,\n",
       "         '5B': 2,\n",
       "         'unk': 3,\n",
       "         'VI': 2,\n",
       "         '4C': 1})"
      ]
     },
     "execution_count": 32,
     "metadata": {},
     "output_type": "execute_result"
    }
   ],
   "source": [
    "counter_data"
   ]
  },
  {
   "cell_type": "code",
   "execution_count": 33,
   "id": "8dea5a23-7ced-4407-b205-891b962bdb52",
   "metadata": {},
   "outputs": [
    {
     "name": "stdout",
     "output_type": "stream",
     "text": [
      "Sorted Counter Data:\n",
      "{'3A': 49, '3B': 5, '4A': 103, '4B': 19, '4C': 1, '5B': 2, '5C': 1, 'I': 1389, 'II': 10, 'VI': 2, 'unk': 3}\n",
      "\n",
      "Sorted Counter Predictions:\n",
      "{'3A': 49, '3B': 1, '4A': 135, '4B': 19, '4C': 0, '5B': 2, '5C': 1, 'I': 1366, 'II': 10, 'VI': 0, 'unk': 1}\n"
     ]
    }
   ],
   "source": [
    "counter_data_sorted = {}\n",
    "counter_pred_sorted = {}\n",
    "\n",
    "sorted_keys = sorted(counter_data.keys())\n",
    "for category in sorted_keys:\n",
    "    counter_data_sorted[category] = counter_data[category]\n",
    "    counter_pred_sorted[category] = counter_pred[category]\n",
    "\n",
    "print(\"Sorted Counter Data:\")\n",
    "print(counter_data_sorted)\n",
    "print()\n",
    "print(\"Sorted Counter Predictions:\")\n",
    "print(counter_pred_sorted)"
   ]
  },
  {
   "cell_type": "code",
   "execution_count": 34,
   "id": "310b1db0-13b0-4d1c-a9bf-9ba9751ba0ef",
   "metadata": {},
   "outputs": [
    {
     "data": {
      "image/png": "[encoded data removed]",
      "text/plain": [
       "<Figure size 640x480 with 3 Axes>"
      ]
     },
     "metadata": {},
     "output_type": "display_data"
    }
   ],
   "source": [
    "\n",
    "# Sort the data in descending order\n",
    "#y_test_plot = sorted(counter_data.values(), reverse=True)\n",
    "#y_data_plot = sorted(counter_pred.values(), reverse=True)\n",
    "\n",
    "y_data_plot = list(counter_data_sorted.values())\n",
    "y_pred_plot = list(counter_pred_sorted.values())\n",
    "\n",
    "# Create an array of x-axis values\n",
    "x_ticks_label_new = list(counter_data_sorted.keys())\n",
    "x_test_new = np.arange(len(x_ticks_label_new))\n",
    "\n",
    "# Set up the figure\n",
    "width = 0.35  # the width of the bars\n",
    "ind = np.arange(len(x_ticks_label_new))\n",
    "baxes = brokenaxes(ylims=((0, 300), (1000, 1500)), hspace=.1)\n",
    "\n",
    "# Define a list of colors for each category\n",
    "colors_data = ['teal', 'darkorange', 'gold', 'maroon', 'dodgerblue', 'mediumslateblue', 'hotpink', 'maroon', 'darkgray', 'black', 'lime']\n",
    "\n",
    "# Plot the original data bars\n",
    "for i in range(len(x_ticks_label_new)):\n",
    "    baxes.bar(ind[i] - width/2, y_data_plot[i], width, color=colors_data[i], label=x_ticks_label_new[i])\n",
    "\n",
    "# Plot the predicted data bars with contrasting colors to colors_data\n",
    "#colors_ml = ['cyan', 'magenta', 'lime', 'deepskyblue', 'purple', 'yellow', 'indigo', 'chartreuse', 'orangered', 'mediumvioletred', 'silver']\n",
    "colors_ml = ['cyan', 'magenta', 'salmon', 'deepskyblue', 'purple', 'yellow', 'indigo', 'chartreuse', 'orangered', 'mediumvioletred', 'silver']\n",
    "\n",
    "for i in range(len(x_ticks_label_new)):\n",
    "    baxes.bar(ind[i] + width/2, y_pred_plot[i], width, color=colors_ml[i])\n",
    "\n",
    "# Add labels and title\n",
    "# Add some text for labels, title and custom x-axis tick labels, etc.\n",
    "baxes.set_ylabel('Counts')\n",
    "#baxes.set_title('Original vs. Predicted Counts for reaction-types for Phi1 dataset')\n",
    "baxes.set_title(r'KNN prediction of Reaction-types for test data on $\\phi_1$ dataset')\n",
    "baxes.set_xticks(ind)\n",
    "#baxes.set_xticklabels(np.arange(len(x_ticks_label_new)))\n",
    "baxes.axs[1].set_xticks(x_test_new, x_ticks_label_new)\n",
    "baxes.set_xlabel('Reaction-types')\n",
    "baxes.legend()\n",
    "\n",
    "# Create a custom legend for the ML prediction colors\n",
    "ml_legend_elements = [plt.Line2D([0], [0], color=colors_ml[i], marker='o', linestyle='', label=x_ticks_label_new[i]) for i in range(len(x_ticks_label_new))]\n",
    "baxes.legend(handles=ml_legend_elements, title='ML(2nd col.)', loc='upper right')\n",
    "\n",
    "plt.savefig('KNN_results_phi1')\n",
    "# Show the plot\n",
    "plt.show()\n",
    "\n"
   ]
  },
  {
   "cell_type": "code",
   "execution_count": 33,
   "id": "e3c8c594-5462-4c5a-835d-96788a785b9d",
   "metadata": {},
   "outputs": [
    {
     "data": {
      "image/png": "[encoded data removed]",
      "text/plain": [
       "<Figure size 800x600 with 2 Axes>"
      ]
     },
     "metadata": {},
     "output_type": "display_data"
    }
   ],
   "source": [
    "import numpy as np\n",
    "import matplotlib.pyplot as plt\n",
    "from sklearn.metrics import confusion_matrix\n",
    "import seaborn as sns\n",
    "\n",
    "# Assuming you have true labels (y_true) and predicted labels (y_pred)\n",
    "\n",
    "# Compute confusion matrix\n",
    "cm = confusion_matrix(y_test, y_pred)\n",
    "\n",
    "# Get class labels\n",
    "classes = np.unique(y_test)\n",
    "\n",
    "# Plot confusion matrix\n",
    "plt.figure(figsize=(8, 6))\n",
    "sns.heatmap(cm, annot=True, cmap='Blues', fmt='d', xticklabels=classes, yticklabels=classes)\n",
    "\n",
    "# Add labels, title, and axis ticks\n",
    "plt.title('Confusion Matrix for KNN Prediction on Test Data ($\\phi_1$ dataset)')\n",
    "plt.xlabel('Predicted Reaction-types')\n",
    "plt.ylabel('True Reaction-types')\n",
    "plt.xticks(np.arange(len(classes)) + 0.5, classes)\n",
    "plt.yticks(np.arange(len(classes)) + 0.5, classes)\n",
    "plt.savefig(\"knn_conf_phi2_matrix\")\n",
    "# Show the plot\n",
    "plt.show()\n"
   ]
  },
  {
   "cell_type": "code",
   "execution_count": 34,
   "id": "8df03cd4-49e0-467e-9047-dd70efc912c4",
   "metadata": {},
   "outputs": [
    {
     "data": {
      "image/png": "[encoded data removed]",
      "text/plain": [
       "<Figure size 1200x600 with 2 Axes>"
      ]
     },
     "metadata": {},
     "output_type": "display_data"
    }
   ],
   "source": [
    "import matplotlib.pyplot as plt\n",
    "\n",
    "# Calculate the unique reaction types and their counts before oversampling\n",
    "unique_types, type_counts = np.unique(y_data, return_counts=True)\n",
    "\n",
    "# Plotting reaction types before oversampling\n",
    "plt.figure(figsize=(12, 6))\n",
    "plt.subplot(1, 2, 1)\n",
    "plt.title(r'Reaction Types Before Oversampling on $\\Phi_1$ Dataset')\n",
    "plt.xlabel('Reaction Type')\n",
    "plt.ylabel('Count')\n",
    "\n",
    "# Calculate the width and spacing between bars\n",
    "bar_width = 0.6\n",
    "bar_spacing = 0.4\n",
    "\n",
    "# Plot the bars before oversampling\n",
    "plt.bar(range(len(unique_types)), type_counts, color='red', width=bar_width)\n",
    "plt.xticks(range(len(unique_types)), unique_types)\n",
    "plt.grid(False)\n",
    "\n",
    "# Calculate the unique reaction types and their counts after oversampling\n",
    "unique_types_res, type_counts_res = np.unique(y_train_res, return_counts=True)\n",
    "\n",
    "# Plotting reaction types after oversampling\n",
    "plt.subplot(1, 2, 2)\n",
    "plt.title(r'Reaction Types After Oversampling on $\\Phi_1$ Dataset')\n",
    "plt.xlabel('Reaction Type')\n",
    "plt.ylabel('Count')\n",
    "\n",
    "# Plot the bars after oversampling with adjusted spacing\n",
    "plt.bar(np.arange(len(unique_types_res)) + bar_spacing, type_counts_res, color='green', width=bar_width)\n",
    "plt.xticks(np.arange(len(unique_types_res)) + bar_spacing, unique_types_res)\n",
    "plt.grid(False)\n",
    "\n",
    "# Adjusting subplot spacing\n",
    "plt.tight_layout(pad=3.0)\n",
    "\n",
    "plt.savefig('reaction_types_plot.png')\n",
    "\n",
    "# Display the plots\n",
    "plt.show()\n",
    "\n"
   ]
  },
  {
   "cell_type": "code",
   "execution_count": 64,
   "id": "a7eb007d-a694-4913-b0bd-bbf1bd2e5427",
   "metadata": {},
   "outputs": [
    {
     "name": "stdout",
     "output_type": "stream",
     "text": [
      "SVC Accuracy: 0.68\n",
      "SVC Precision: 0.68\n",
      "SVC Recall: 0.68\n",
      "Decision_Tree Accuracy: 0.58\n",
      "Decision_Tree Precision: 0.58\n",
      "Decision_Tree Recall: 0.58\n",
      "Random_forest Accuracy: 0.60\n",
      "Random_forest Precision: 0.60\n",
      "Random_forest Recall: 0.60\n",
      "KNN Accuracy: 0.95\n",
      "KNN Precision: 0.95\n",
      "KNN Recall: 0.95\n",
      "AdaBoost Accuracy: 0.07\n",
      "AdaBoost Precision: 0.07\n",
      "AdaBoost Recall: 0.07\n",
      "Nearest_neighbour Accuracy: 0.28\n",
      "Nearest_neighbour Precision: 0.28\n",
      "Nearest_neighbour Recall: 0.28\n",
      "Naive_bayes Accuracy: 0.25\n",
      "Naive_bayes Precision: 0.25\n",
      "Naive_bayes Recall: 0.25\n",
      "Voting Accuracy: 0.93\n",
      "Voting Precision: 0.93\n",
      "Voting Recall: 0.93\n",
      "XGBoost Accuracy: 0.89\n",
      "XGBoost Precision: 0.89\n",
      "XGBoost Recall: 0.89\n",
      "               Model                                   3A  \\\n",
      "0                SVC  {'Precision': 0.37, 'Recall': 0.73}   \n",
      "1      Decision_Tree   {'Precision': 0.29, 'Recall': 0.9}   \n",
      "2      Random_forest  {'Precision': 0.27, 'Recall': 0.92}   \n",
      "3                KNN  {'Precision': 0.86, 'Recall': 0.86}   \n",
      "4           AdaBoost    {'Precision': 0.0, 'Recall': 0.0}   \n",
      "5  Nearest_neighbour  {'Precision': 0.24, 'Recall': 0.39}   \n",
      "6        Naive_bayes  {'Precision': 0.23, 'Recall': 0.61}   \n",
      "7             Voting  {'Precision': 0.82, 'Recall': 0.86}   \n",
      "8            XGBoost  {'Precision': 0.67, 'Recall': 0.94}   \n",
      "\n",
      "                                   3B                                   4A  \\\n",
      "0   {'Precision': 0.0, 'Recall': 0.0}  {'Precision': 0.25, 'Recall': 0.64}   \n",
      "1   {'Precision': 0.0, 'Recall': 0.0}  {'Precision': 0.15, 'Recall': 0.34}   \n",
      "2   {'Precision': 0.0, 'Recall': 0.0}  {'Precision': 0.29, 'Recall': 0.13}   \n",
      "3   {'Precision': 0.0, 'Recall': 0.0}  {'Precision': 0.67, 'Recall': 0.87}   \n",
      "4  {'Precision': 0.03, 'Recall': 0.0}   {'Precision': 0.31, 'Recall': 0.1}   \n",
      "5  {'Precision': 0.01, 'Recall': 0.2}  {'Precision': 0.04, 'Recall': 0.02}   \n",
      "6  {'Precision': 0.03, 'Recall': 0.2}   {'Precision': 0.2, 'Recall': 0.13}   \n",
      "7   {'Precision': 0.0, 'Recall': 0.0}  {'Precision': 0.62, 'Recall': 0.87}   \n",
      "8   {'Precision': 0.0, 'Recall': 0.0}  {'Precision': 0.53, 'Recall': 0.88}   \n",
      "\n",
      "                                    4B                                  4C  \\\n",
      "0  {'Precision': 0.12, 'Recall': 0.74}   {'Precision': 0.0, 'Recall': 0.0}   \n",
      "1  {'Precision': 0.07, 'Recall': 0.63}   {'Precision': 0.0, 'Recall': 0.0}   \n",
      "2  {'Precision': 0.05, 'Recall': 0.63}   {'Precision': 0.0, 'Recall': 0.0}   \n",
      "3  {'Precision': 0.74, 'Recall': 0.74}   {'Precision': 0.0, 'Recall': 0.0}   \n",
      "4  {'Precision': 0.04, 'Recall': 0.63}  {'Precision': 0.03, 'Recall': 0.0}   \n",
      "5  {'Precision': 0.07, 'Recall': 0.37}   {'Precision': 0.0, 'Recall': 0.0}   \n",
      "6  {'Precision': 0.02, 'Recall': 0.16}   {'Precision': 0.0, 'Recall': 0.0}   \n",
      "7  {'Precision': 0.64, 'Recall': 0.74}   {'Precision': 0.0, 'Recall': 0.0}   \n",
      "8  {'Precision': 0.35, 'Recall': 0.79}   {'Precision': 0.0, 'Recall': 0.0}   \n",
      "\n",
      "                                  5B                                  5C  \\\n",
      "0  {'Precision': 0.0, 'Recall': 0.0}   {'Precision': 0.0, 'Recall': 0.0}   \n",
      "1  {'Precision': 0.0, 'Recall': 0.0}  {'Precision': 0.08, 'Recall': 0.0}   \n",
      "2  {'Precision': 0.0, 'Recall': 0.0}   {'Precision': 0.0, 'Recall': 0.0}   \n",
      "3  {'Precision': 0.0, 'Recall': 0.0}   {'Precision': 0.0, 'Recall': 0.0}   \n",
      "4  {'Precision': 0.0, 'Recall': 0.0}   {'Precision': 0.0, 'Recall': 0.0}   \n",
      "5  {'Precision': 0.0, 'Recall': 0.0}   {'Precision': 0.0, 'Recall': 0.0}   \n",
      "6  {'Precision': 0.0, 'Recall': 0.0}  {'Precision': 0.01, 'Recall': 0.0}   \n",
      "7  {'Precision': 0.0, 'Recall': 0.0}   {'Precision': 0.0, 'Recall': 0.0}   \n",
      "8  {'Precision': 0.5, 'Recall': 0.0}   {'Precision': 0.0, 'Recall': 0.0}   \n",
      "\n",
      "                                     I                                  II  \\\n",
      "0   {'Precision': 0.0, 'Recall': 0.69}  {'Precision': 0.24, 'Recall': 0.8}   \n",
      "1   {'Precision': 0.0, 'Recall': 0.59}  {'Precision': 0.15, 'Recall': 0.7}   \n",
      "2   {'Precision': 0.0, 'Recall': 0.62}  {'Precision': 0.13, 'Recall': 0.5}   \n",
      "3  {'Precision': 0.99, 'Recall': 0.98}   {'Precision': 0.5, 'Recall': 0.5}   \n",
      "4   {'Precision': 0.0, 'Recall': 0.06}   {'Precision': 0.0, 'Recall': 0.0}   \n",
      "5   {'Precision': 0.0, 'Recall': 0.29}  {'Precision': 0.03, 'Recall': 0.1}   \n",
      "6  {'Precision': 0.97, 'Recall': 0.24}  {'Precision': 0.03, 'Recall': 0.2}   \n",
      "7  {'Precision': 0.99, 'Recall': 0.96}  {'Precision': 0.33, 'Recall': 0.6}   \n",
      "8    {'Precision': 0.0, 'Recall': 0.9}  {'Precision': 0.42, 'Recall': 0.0}   \n",
      "\n",
      "                                   VI                                  unk  \n",
      "0   {'Precision': 0.0, 'Recall': 0.0}  {'Precision': 0.02, 'Recall': 0.33}  \n",
      "1  {'Precision': 0.09, 'Recall': 0.0}  {'Precision': 0.02, 'Recall': 0.33}  \n",
      "2  {'Precision': 0.04, 'Recall': 0.0}  {'Precision': 0.04, 'Recall': 0.67}  \n",
      "3   {'Precision': 0.0, 'Recall': 0.0}    {'Precision': 0.0, 'Recall': 0.0}  \n",
      "4  {'Precision': 0.02, 'Recall': 0.0}    {'Precision': 0.0, 'Recall': 0.0}  \n",
      "5   {'Precision': 0.0, 'Recall': 0.0}    {'Precision': 0.0, 'Recall': 0.0}  \n",
      "6   {'Precision': 0.0, 'Recall': 0.0}    {'Precision': 0.0, 'Recall': 0.0}  \n",
      "7   {'Precision': 0.0, 'Recall': 0.0}    {'Precision': 0.0, 'Recall': 0.0}  \n",
      "8   {'Precision': 0.5, 'Recall': 0.0}  {'Precision': 0.18, 'Recall': 0.67}  \n"
     ]
    }
   ],
   "source": [
    "import pandas as pd\n",
    "from sklearn.metrics import classification_report, accuracy_score, precision_score, recall_score\n",
    "\n",
    "# Get the unique class labels\n",
    "classes = np.unique(y_test)\n",
    "\n",
    "# Create an empty DataFrame\n",
    "report_df = pd.DataFrame(columns=['Model'] + list(classes))\n",
    "\n",
    "for name, model in models:\n",
    "    model_list.append(model)\n",
    "    model.fit(X_train_res, y_train_res)\n",
    "    y_pred = model.predict(X_test)\n",
    "    score = accuracy_score(y_test, y_pred)\n",
    "    scores.append(score)\n",
    "    prec_score = precision_score(y_test, y_pred, average='micro')\n",
    "    rec_score = recall_score(y_test, y_pred, average='micro')\n",
    "    names.append(name)\n",
    "    print('%s Accuracy: %.2f' % (name, score))\n",
    "    print('%s Precision: %.2f' % (name, prec_score))\n",
    "    print('%s Recall: %.2f' % (name, rec_score))\n",
    "    report = classification_report(y_test, y_pred, output_dict=True)\n",
    "    report_dict = {'Model': name}\n",
    "\n",
    "    for class_label in classes:\n",
    "        class_report = report[str(class_label)]\n",
    "        precision = float('{:.2f}'.format(class_report['precision'])[1:])\n",
    "        recall = float('{:.2f}'.format(class_report['recall'])[1:])\n",
    "        report_dict[class_label] = {'Precision': precision, 'Recall': recall}\n",
    "\n",
    "    report_df = report_df.append(report_dict, ignore_index=True)\n",
    "\n",
    "# Remove the curly braces '{}' from the classification report DataFrame\n",
    "report_df = report_df.replace(to_replace=r\"\\{|\\}\", value='', regex=True)\n",
    "\n",
    "# Save the classification report DataFrame as a tab-separated text file\n",
    "report_df.to_csv('classification_report.txt', sep='\\t', index=False)\n",
    "\n",
    "# Display the classification report DataFrame\n",
    "print(report_df)\n"
   ]
  },
  {
   "cell_type": "code",
   "execution_count": 65,
   "id": "153eb815-0196-4e89-a5e4-f09ab79faae4",
   "metadata": {},
   "outputs": [],
   "source": [
    "df =pd.DataFrame(report_df)"
   ]
  },
  {
   "cell_type": "code",
   "execution_count": 66,
   "id": "85bad6a0-3673-4c91-a315-09ef595df10c",
   "metadata": {},
   "outputs": [
    {
     "data": {
      "text/html": [
       "<div>\n",
       "<style scoped>\n",
       "    .dataframe tbody tr th:only-of-type {\n",
       "        vertical-align: middle;\n",
       "    }\n",
       "\n",
       "    .dataframe tbody tr th {\n",
       "        vertical-align: top;\n",
       "    }\n",
       "\n",
       "    .dataframe thead th {\n",
       "        text-align: right;\n",
       "    }\n",
       "</style>\n",
       "<table border=\"1\" class=\"dataframe\">\n",
       "  <thead>\n",
       "    <tr style=\"text-align: right;\">\n",
       "      <th></th>\n",
       "      <th>Model</th>\n",
       "      <th>3A</th>\n",
       "      <th>3B</th>\n",
       "      <th>4A</th>\n",
       "      <th>4B</th>\n",
       "      <th>4C</th>\n",
       "      <th>5B</th>\n",
       "      <th>5C</th>\n",
       "      <th>I</th>\n",
       "      <th>II</th>\n",
       "      <th>VI</th>\n",
       "      <th>unk</th>\n",
       "    </tr>\n",
       "  </thead>\n",
       "  <tbody>\n",
       "    <tr>\n",
       "      <th>0</th>\n",
       "      <td>SVC</td>\n",
       "      <td>{'Precision': 0.37, 'Recall': 0.73}</td>\n",
       "      <td>{'Precision': 0.0, 'Recall': 0.0}</td>\n",
       "      <td>{'Precision': 0.25, 'Recall': 0.64}</td>\n",
       "      <td>{'Precision': 0.12, 'Recall': 0.74}</td>\n",
       "      <td>{'Precision': 0.0, 'Recall': 0.0}</td>\n",
       "      <td>{'Precision': 0.0, 'Recall': 0.0}</td>\n",
       "      <td>{'Precision': 0.0, 'Recall': 0.0}</td>\n",
       "      <td>{'Precision': 0.0, 'Recall': 0.69}</td>\n",
       "      <td>{'Precision': 0.24, 'Recall': 0.8}</td>\n",
       "      <td>{'Precision': 0.0, 'Recall': 0.0}</td>\n",
       "      <td>{'Precision': 0.02, 'Recall': 0.33}</td>\n",
       "    </tr>\n",
       "    <tr>\n",
       "      <th>1</th>\n",
       "      <td>Decision_Tree</td>\n",
       "      <td>{'Precision': 0.29, 'Recall': 0.9}</td>\n",
       "      <td>{'Precision': 0.0, 'Recall': 0.0}</td>\n",
       "      <td>{'Precision': 0.15, 'Recall': 0.34}</td>\n",
       "      <td>{'Precision': 0.07, 'Recall': 0.63}</td>\n",
       "      <td>{'Precision': 0.0, 'Recall': 0.0}</td>\n",
       "      <td>{'Precision': 0.0, 'Recall': 0.0}</td>\n",
       "      <td>{'Precision': 0.08, 'Recall': 0.0}</td>\n",
       "      <td>{'Precision': 0.0, 'Recall': 0.59}</td>\n",
       "      <td>{'Precision': 0.15, 'Recall': 0.7}</td>\n",
       "      <td>{'Precision': 0.09, 'Recall': 0.0}</td>\n",
       "      <td>{'Precision': 0.02, 'Recall': 0.33}</td>\n",
       "    </tr>\n",
       "    <tr>\n",
       "      <th>2</th>\n",
       "      <td>Random_forest</td>\n",
       "      <td>{'Precision': 0.27, 'Recall': 0.92}</td>\n",
       "      <td>{'Precision': 0.0, 'Recall': 0.0}</td>\n",
       "      <td>{'Precision': 0.29, 'Recall': 0.13}</td>\n",
       "      <td>{'Precision': 0.05, 'Recall': 0.63}</td>\n",
       "      <td>{'Precision': 0.0, 'Recall': 0.0}</td>\n",
       "      <td>{'Precision': 0.0, 'Recall': 0.0}</td>\n",
       "      <td>{'Precision': 0.0, 'Recall': 0.0}</td>\n",
       "      <td>{'Precision': 0.0, 'Recall': 0.62}</td>\n",
       "      <td>{'Precision': 0.13, 'Recall': 0.5}</td>\n",
       "      <td>{'Precision': 0.04, 'Recall': 0.0}</td>\n",
       "      <td>{'Precision': 0.04, 'Recall': 0.67}</td>\n",
       "    </tr>\n",
       "    <tr>\n",
       "      <th>3</th>\n",
       "      <td>KNN</td>\n",
       "      <td>{'Precision': 0.86, 'Recall': 0.86}</td>\n",
       "      <td>{'Precision': 0.0, 'Recall': 0.0}</td>\n",
       "      <td>{'Precision': 0.67, 'Recall': 0.87}</td>\n",
       "      <td>{'Precision': 0.74, 'Recall': 0.74}</td>\n",
       "      <td>{'Precision': 0.0, 'Recall': 0.0}</td>\n",
       "      <td>{'Precision': 0.0, 'Recall': 0.0}</td>\n",
       "      <td>{'Precision': 0.0, 'Recall': 0.0}</td>\n",
       "      <td>{'Precision': 0.99, 'Recall': 0.98}</td>\n",
       "      <td>{'Precision': 0.5, 'Recall': 0.5}</td>\n",
       "      <td>{'Precision': 0.0, 'Recall': 0.0}</td>\n",
       "      <td>{'Precision': 0.0, 'Recall': 0.0}</td>\n",
       "    </tr>\n",
       "    <tr>\n",
       "      <th>4</th>\n",
       "      <td>AdaBoost</td>\n",
       "      <td>{'Precision': 0.0, 'Recall': 0.0}</td>\n",
       "      <td>{'Precision': 0.03, 'Recall': 0.0}</td>\n",
       "      <td>{'Precision': 0.31, 'Recall': 0.1}</td>\n",
       "      <td>{'Precision': 0.04, 'Recall': 0.63}</td>\n",
       "      <td>{'Precision': 0.03, 'Recall': 0.0}</td>\n",
       "      <td>{'Precision': 0.0, 'Recall': 0.0}</td>\n",
       "      <td>{'Precision': 0.0, 'Recall': 0.0}</td>\n",
       "      <td>{'Precision': 0.0, 'Recall': 0.06}</td>\n",
       "      <td>{'Precision': 0.0, 'Recall': 0.0}</td>\n",
       "      <td>{'Precision': 0.02, 'Recall': 0.0}</td>\n",
       "      <td>{'Precision': 0.0, 'Recall': 0.0}</td>\n",
       "    </tr>\n",
       "    <tr>\n",
       "      <th>5</th>\n",
       "      <td>Nearest_neighbour</td>\n",
       "      <td>{'Precision': 0.24, 'Recall': 0.39}</td>\n",
       "      <td>{'Precision': 0.01, 'Recall': 0.2}</td>\n",
       "      <td>{'Precision': 0.04, 'Recall': 0.02}</td>\n",
       "      <td>{'Precision': 0.07, 'Recall': 0.37}</td>\n",
       "      <td>{'Precision': 0.0, 'Recall': 0.0}</td>\n",
       "      <td>{'Precision': 0.0, 'Recall': 0.0}</td>\n",
       "      <td>{'Precision': 0.0, 'Recall': 0.0}</td>\n",
       "      <td>{'Precision': 0.0, 'Recall': 0.29}</td>\n",
       "      <td>{'Precision': 0.03, 'Recall': 0.1}</td>\n",
       "      <td>{'Precision': 0.0, 'Recall': 0.0}</td>\n",
       "      <td>{'Precision': 0.0, 'Recall': 0.0}</td>\n",
       "    </tr>\n",
       "    <tr>\n",
       "      <th>6</th>\n",
       "      <td>Naive_bayes</td>\n",
       "      <td>{'Precision': 0.23, 'Recall': 0.61}</td>\n",
       "      <td>{'Precision': 0.03, 'Recall': 0.2}</td>\n",
       "      <td>{'Precision': 0.2, 'Recall': 0.13}</td>\n",
       "      <td>{'Precision': 0.02, 'Recall': 0.16}</td>\n",
       "      <td>{'Precision': 0.0, 'Recall': 0.0}</td>\n",
       "      <td>{'Precision': 0.0, 'Recall': 0.0}</td>\n",
       "      <td>{'Precision': 0.01, 'Recall': 0.0}</td>\n",
       "      <td>{'Precision': 0.97, 'Recall': 0.24}</td>\n",
       "      <td>{'Precision': 0.03, 'Recall': 0.2}</td>\n",
       "      <td>{'Precision': 0.0, 'Recall': 0.0}</td>\n",
       "      <td>{'Precision': 0.0, 'Recall': 0.0}</td>\n",
       "    </tr>\n",
       "    <tr>\n",
       "      <th>7</th>\n",
       "      <td>Voting</td>\n",
       "      <td>{'Precision': 0.82, 'Recall': 0.86}</td>\n",
       "      <td>{'Precision': 0.0, 'Recall': 0.0}</td>\n",
       "      <td>{'Precision': 0.62, 'Recall': 0.87}</td>\n",
       "      <td>{'Precision': 0.64, 'Recall': 0.74}</td>\n",
       "      <td>{'Precision': 0.0, 'Recall': 0.0}</td>\n",
       "      <td>{'Precision': 0.0, 'Recall': 0.0}</td>\n",
       "      <td>{'Precision': 0.0, 'Recall': 0.0}</td>\n",
       "      <td>{'Precision': 0.99, 'Recall': 0.96}</td>\n",
       "      <td>{'Precision': 0.33, 'Recall': 0.6}</td>\n",
       "      <td>{'Precision': 0.0, 'Recall': 0.0}</td>\n",
       "      <td>{'Precision': 0.0, 'Recall': 0.0}</td>\n",
       "    </tr>\n",
       "    <tr>\n",
       "      <th>8</th>\n",
       "      <td>XGBoost</td>\n",
       "      <td>{'Precision': 0.67, 'Recall': 0.94}</td>\n",
       "      <td>{'Precision': 0.0, 'Recall': 0.0}</td>\n",
       "      <td>{'Precision': 0.53, 'Recall': 0.88}</td>\n",
       "      <td>{'Precision': 0.35, 'Recall': 0.79}</td>\n",
       "      <td>{'Precision': 0.0, 'Recall': 0.0}</td>\n",
       "      <td>{'Precision': 0.5, 'Recall': 0.0}</td>\n",
       "      <td>{'Precision': 0.0, 'Recall': 0.0}</td>\n",
       "      <td>{'Precision': 0.0, 'Recall': 0.9}</td>\n",
       "      <td>{'Precision': 0.42, 'Recall': 0.0}</td>\n",
       "      <td>{'Precision': 0.5, 'Recall': 0.0}</td>\n",
       "      <td>{'Precision': 0.18, 'Recall': 0.67}</td>\n",
       "    </tr>\n",
       "  </tbody>\n",
       "</table>\n",
       "</div>"
      ],
      "text/plain": [
       "               Model                                   3A  \\\n",
       "0                SVC  {'Precision': 0.37, 'Recall': 0.73}   \n",
       "1      Decision_Tree   {'Precision': 0.29, 'Recall': 0.9}   \n",
       "2      Random_forest  {'Precision': 0.27, 'Recall': 0.92}   \n",
       "3                KNN  {'Precision': 0.86, 'Recall': 0.86}   \n",
       "4           AdaBoost    {'Precision': 0.0, 'Recall': 0.0}   \n",
       "5  Nearest_neighbour  {'Precision': 0.24, 'Recall': 0.39}   \n",
       "6        Naive_bayes  {'Precision': 0.23, 'Recall': 0.61}   \n",
       "7             Voting  {'Precision': 0.82, 'Recall': 0.86}   \n",
       "8            XGBoost  {'Precision': 0.67, 'Recall': 0.94}   \n",
       "\n",
       "                                   3B                                   4A  \\\n",
       "0   {'Precision': 0.0, 'Recall': 0.0}  {'Precision': 0.25, 'Recall': 0.64}   \n",
       "1   {'Precision': 0.0, 'Recall': 0.0}  {'Precision': 0.15, 'Recall': 0.34}   \n",
       "2   {'Precision': 0.0, 'Recall': 0.0}  {'Precision': 0.29, 'Recall': 0.13}   \n",
       "3   {'Precision': 0.0, 'Recall': 0.0}  {'Precision': 0.67, 'Recall': 0.87}   \n",
       "4  {'Precision': 0.03, 'Recall': 0.0}   {'Precision': 0.31, 'Recall': 0.1}   \n",
       "5  {'Precision': 0.01, 'Recall': 0.2}  {'Precision': 0.04, 'Recall': 0.02}   \n",
       "6  {'Precision': 0.03, 'Recall': 0.2}   {'Precision': 0.2, 'Recall': 0.13}   \n",
       "7   {'Precision': 0.0, 'Recall': 0.0}  {'Precision': 0.62, 'Recall': 0.87}   \n",
       "8   {'Precision': 0.0, 'Recall': 0.0}  {'Precision': 0.53, 'Recall': 0.88}   \n",
       "\n",
       "                                    4B                                  4C  \\\n",
       "0  {'Precision': 0.12, 'Recall': 0.74}   {'Precision': 0.0, 'Recall': 0.0}   \n",
       "1  {'Precision': 0.07, 'Recall': 0.63}   {'Precision': 0.0, 'Recall': 0.0}   \n",
       "2  {'Precision': 0.05, 'Recall': 0.63}   {'Precision': 0.0, 'Recall': 0.0}   \n",
       "3  {'Precision': 0.74, 'Recall': 0.74}   {'Precision': 0.0, 'Recall': 0.0}   \n",
       "4  {'Precision': 0.04, 'Recall': 0.63}  {'Precision': 0.03, 'Recall': 0.0}   \n",
       "5  {'Precision': 0.07, 'Recall': 0.37}   {'Precision': 0.0, 'Recall': 0.0}   \n",
       "6  {'Precision': 0.02, 'Recall': 0.16}   {'Precision': 0.0, 'Recall': 0.0}   \n",
       "7  {'Precision': 0.64, 'Recall': 0.74}   {'Precision': 0.0, 'Recall': 0.0}   \n",
       "8  {'Precision': 0.35, 'Recall': 0.79}   {'Precision': 0.0, 'Recall': 0.0}   \n",
       "\n",
       "                                  5B                                  5C  \\\n",
       "0  {'Precision': 0.0, 'Recall': 0.0}   {'Precision': 0.0, 'Recall': 0.0}   \n",
       "1  {'Precision': 0.0, 'Recall': 0.0}  {'Precision': 0.08, 'Recall': 0.0}   \n",
       "2  {'Precision': 0.0, 'Recall': 0.0}   {'Precision': 0.0, 'Recall': 0.0}   \n",
       "3  {'Precision': 0.0, 'Recall': 0.0}   {'Precision': 0.0, 'Recall': 0.0}   \n",
       "4  {'Precision': 0.0, 'Recall': 0.0}   {'Precision': 0.0, 'Recall': 0.0}   \n",
       "5  {'Precision': 0.0, 'Recall': 0.0}   {'Precision': 0.0, 'Recall': 0.0}   \n",
       "6  {'Precision': 0.0, 'Recall': 0.0}  {'Precision': 0.01, 'Recall': 0.0}   \n",
       "7  {'Precision': 0.0, 'Recall': 0.0}   {'Precision': 0.0, 'Recall': 0.0}   \n",
       "8  {'Precision': 0.5, 'Recall': 0.0}   {'Precision': 0.0, 'Recall': 0.0}   \n",
       "\n",
       "                                     I                                  II  \\\n",
       "0   {'Precision': 0.0, 'Recall': 0.69}  {'Precision': 0.24, 'Recall': 0.8}   \n",
       "1   {'Precision': 0.0, 'Recall': 0.59}  {'Precision': 0.15, 'Recall': 0.7}   \n",
       "2   {'Precision': 0.0, 'Recall': 0.62}  {'Precision': 0.13, 'Recall': 0.5}   \n",
       "3  {'Precision': 0.99, 'Recall': 0.98}   {'Precision': 0.5, 'Recall': 0.5}   \n",
       "4   {'Precision': 0.0, 'Recall': 0.06}   {'Precision': 0.0, 'Recall': 0.0}   \n",
       "5   {'Precision': 0.0, 'Recall': 0.29}  {'Precision': 0.03, 'Recall': 0.1}   \n",
       "6  {'Precision': 0.97, 'Recall': 0.24}  {'Precision': 0.03, 'Recall': 0.2}   \n",
       "7  {'Precision': 0.99, 'Recall': 0.96}  {'Precision': 0.33, 'Recall': 0.6}   \n",
       "8    {'Precision': 0.0, 'Recall': 0.9}  {'Precision': 0.42, 'Recall': 0.0}   \n",
       "\n",
       "                                   VI                                  unk  \n",
       "0   {'Precision': 0.0, 'Recall': 0.0}  {'Precision': 0.02, 'Recall': 0.33}  \n",
       "1  {'Precision': 0.09, 'Recall': 0.0}  {'Precision': 0.02, 'Recall': 0.33}  \n",
       "2  {'Precision': 0.04, 'Recall': 0.0}  {'Precision': 0.04, 'Recall': 0.67}  \n",
       "3   {'Precision': 0.0, 'Recall': 0.0}    {'Precision': 0.0, 'Recall': 0.0}  \n",
       "4  {'Precision': 0.02, 'Recall': 0.0}    {'Precision': 0.0, 'Recall': 0.0}  \n",
       "5   {'Precision': 0.0, 'Recall': 0.0}    {'Precision': 0.0, 'Recall': 0.0}  \n",
       "6   {'Precision': 0.0, 'Recall': 0.0}    {'Precision': 0.0, 'Recall': 0.0}  \n",
       "7   {'Precision': 0.0, 'Recall': 0.0}    {'Precision': 0.0, 'Recall': 0.0}  \n",
       "8   {'Precision': 0.5, 'Recall': 0.0}  {'Precision': 0.18, 'Recall': 0.67}  "
      ]
     },
     "execution_count": 66,
     "metadata": {},
     "output_type": "execute_result"
    }
   ],
   "source": [
    "df"
   ]
  },
  {
   "cell_type": "code",
   "execution_count": null,
   "id": "a8f338fc-6fda-4173-a7e3-56f6b1c3ae0c",
   "metadata": {},
   "outputs": [],
   "source": []
  }
 ],
 "metadata": {
  "kernelspec": {
   "display_name": "Python 3 (ipykernel)",
   "language": "python",
   "name": "python3"
  },
  "language_info": {
   "codemirror_mode": {
    "name": "ipython",
    "version": 3
   },
   "file_extension": ".py",
   "mimetype": "text/x-python",
   "name": "python",
   "nbconvert_exporter": "python",
   "pygments_lexer": "ipython3",
   "version": "3.9.13"
  }
 },
 "nbformat": 4,
 "nbformat_minor": 5
}
